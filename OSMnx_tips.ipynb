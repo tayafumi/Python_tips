{
 "cells": [
  {
   "cell_type": "markdown",
   "metadata": {},
   "source": [
    "# Python OSMnx Tips"
   ]
  },
  {
   "cell_type": "markdown",
   "metadata": {},
   "source": [
    "## Installation of OSMnx package on MacOS X\n",
    "To install OSMnx on Mac, you first need to install Homebrew (https://brew.sh/) and libspatialindex, which would be required by RTree package as follows."
   ]
  },
  {
   "cell_type": "raw",
   "metadata": {},
   "source": [
    "$ brew install spatialindex"
   ]
  },
  {
   "cell_type": "markdown",
   "metadata": {},
   "source": [
    "Then, you can install the OSMnx with pip command. "
   ]
  },
  {
   "cell_type": "raw",
   "metadata": {},
   "source": [
    "$ pip install osmnx"
   ]
  },
  {
   "cell_type": "markdown",
   "metadata": {},
   "source": [
    "## How to extract OpenStreetMap data\n",
    "With OSmnx, it is easy to download OSM streets data on Python. For example, if you want to download the street map data of Tokyo, you can specify the place of interest with its name as follows. "
   ]
  },
  {
   "cell_type": "code",
   "execution_count": 4,
   "metadata": {},
   "outputs": [
    {
     "name": "stdout",
     "output_type": "stream",
     "text": [
      "                                            geometry    place_name  \\\n",
      "0  MULTIPOLYGON (((135.85369 20.42357, 135.86990 ...  Tokyo, Japan   \n",
      "\n",
      "   bbox_north  bbox_south   bbox_east   bbox_west  \n",
      "0   35.898424   20.214581  154.205541  135.853686  \n"
     ]
    }
   ],
   "source": [
    "import osmnx as ox\n",
    "\n",
    "city = ox.gdf_from_place('Tokyo, Japan', which_result=1)\n",
    "print(city)"
   ]
  },
  {
   "cell_type": "markdown",
   "metadata": {},
   "source": [
    "We can download the street map as a NetworkX graph. "
   ]
  },
  {
   "cell_type": "code",
   "execution_count": null,
   "metadata": {},
   "outputs": [],
   "source": [
    "G = ox.graph_from_place('Tokyo, Japan')"
   ]
  },
  {
   "cell_type": "code",
   "execution_count": null,
   "metadata": {},
   "outputs": [],
   "source": []
  }
 ],
 "metadata": {
  "kernelspec": {
   "display_name": "Python 3",
   "language": "python",
   "name": "python3"
  },
  "language_info": {
   "codemirror_mode": {
    "name": "ipython",
    "version": 3
   },
   "file_extension": ".py",
   "mimetype": "text/x-python",
   "name": "python",
   "nbconvert_exporter": "python",
   "pygments_lexer": "ipython3",
   "version": "3.7.5"
  }
 },
 "nbformat": 4,
 "nbformat_minor": 4
}
